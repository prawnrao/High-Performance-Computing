{
 "cells": [
  {
   "cell_type": "markdown",
   "metadata": {},
   "source": [
    "# HPC- Project Stage 1\n",
    "## Pranav Rao- 15008121"
   ]
  },
  {
   "cell_type": "code",
   "execution_count": 1,
   "metadata": {},
   "outputs": [],
   "source": [
    "import numpy as np\n",
    "import pyopencl as cl\n",
    "from scipy.sparse.linalg import LinearOperator, gmres, bicgstab\n",
    "import matplotlib.pyplot as plt\n",
    "ctx = cl.create_some_context()\n",
    "queue = cl.CommandQueue(ctx)"
   ]
  },
  {
   "cell_type": "code",
   "execution_count": 2,
   "metadata": {},
   "outputs": [],
   "source": [
    "# Normally Distributed sigma field\n",
    "def make_random_sigma(N, mean=2, sd=0.5, seed=0):\n",
    "    S = np.random.RandomState(seed).normal(mean, sd, (N, N))\n",
    "    sigma = np.exp(np.negative(S))\n",
    "    return sigma"
   ]
  },
  {
   "cell_type": "markdown",
   "metadata": {},
   "source": [
    "Fixed $\\sigma$ used to compare the results of the OpenCL kernel with FEniCs:\n",
    "\n",
    "$$\\sigma (x,y) = 1 + x^2 + y^2$$"
   ]
  },
  {
   "cell_type": "code",
   "execution_count": 3,
   "metadata": {},
   "outputs": [],
   "source": [
    "# Sigma field defined as a specific function of x and y for comparison with FEniCs\n",
    "def make_sigma(N):\n",
    "    points = np.linspace(0,1,N)\n",
    "    \n",
    "    kernel =\"\"\"\n",
    "    __kernel void make_sigma(__global double *points,\n",
    "                             __global double *sigma)\n",
    "    {\n",
    "        int N = get_global_size(0);\n",
    "        \n",
    "        int i = get_global_id(0);\n",
    "        int j = get_global_id(1);\n",
    "\n",
    "        sigma[i * N + j] = 1 + points[i]*points[i] + points[j]*points[j];\n",
    "    }\n",
    "    \"\"\"\n",
    "    \n",
    "    prg = cl.Program(ctx, kernel)\n",
    "    prg.build()\n",
    "    make_sigma_kernel = prg.make_sigma\n",
    "    mf = cl.mem_flags        \n",
    "    \n",
    "    points_buffer = cl.Buffer(ctx, mf.COPY_HOST_PTR | mf.READ_ONLY, hostbuf=points)\n",
    "    sigma_buffer = cl.Buffer(ctx, mf.ALLOC_HOST_PTR, size = N * N * 8)\n",
    "    \n",
    "    make_sigma_kernel(queue, (N, N), (1, 1), points_buffer, sigma_buffer)\n",
    "    \n",
    "    sigma, _ = cl.enqueue_map_buffer(queue, sigma_buffer, cl.map_flags.READ, 0, (N*N,), np.double)\n",
    "    \n",
    "    queue.finish()\n",
    "    \n",
    "    return sigma"
   ]
  },
  {
   "cell_type": "markdown",
   "metadata": {},
   "source": [
    "Poisson Equation that we are interested in solving using the finite difference method:\n",
    "\n",
    "$$-\\nabla \\cdot \\left(\\sigma(x, y)\\nabla\\right)u(x, y) = f(x, y)$$ "
   ]
  },
  {
   "cell_type": "code",
   "execution_count": 4,
   "metadata": {},
   "outputs": [],
   "source": [
    "def solve_poisson_equation(u):\n",
    "    \"\"\"Matrix free opencl implementation of finite difference methods\n",
    "       to solve the given poisson equation.\n",
    "       Uses the 5 point stencil to evaluate the sccuessive value of u.\n",
    "    \"\"\"\n",
    "    \n",
    "    kernel = \"\"\"\n",
    "        __kernel void solve_poisson_equation(__global double *u,\n",
    "                                             __global double *sigma,\n",
    "                                             __global double *result)\n",
    "        {\n",
    "            int N = get_global_size(0);\n",
    "            double h = (double) 1.0/(N+1);\n",
    "            \n",
    "            int i = get_global_id(0);\n",
    "            int j = get_global_id(1);\n",
    "            \n",
    "            // 5 Point Stencil for u and sigma\n",
    "            \n",
    "            double u_up; double u_down; double u_right; double u_left; double u_centre;\n",
    "            double sigma_up; double sigma_down; double sigma_right; double sigma_left; double sigma_centre;\n",
    "            \n",
    "            if (i == 0) {\n",
    "                u_up = 0;\n",
    "                sigma_up = sigma[(i + 1) * N + j];\n",
    "            } else {\n",
    "                u_up = u[(i - 1) * N + j];\n",
    "                sigma_up = sigma[(i - 1) * N + j];\n",
    "            }\n",
    "            \n",
    "            if(j == 0) {\n",
    "                u_left = 0;\n",
    "                sigma_left = sigma[i * N + j + 1];\n",
    "            }else {\n",
    "                u_left = u[i * N + j - 1];\n",
    "                sigma_left = sigma[i * N + j - 1];\n",
    "            }\n",
    "            \n",
    "            if(j == (N - 1)) {\n",
    "                u_right = 0;\n",
    "                sigma_right = sigma[i * N + j - 1];\n",
    "            }else {\n",
    "                u_right = u[i * N + j + 1];\n",
    "                sigma_right = sigma[i * N + j + 1];\n",
    "            }\n",
    "            \n",
    "            if(i == (N - 1)){\n",
    "                u_down = 0;\n",
    "                sigma_down = sigma[(i - 1) * N + j];\n",
    "            }else {\n",
    "                u_down = u[(i + 1) * N + j];\n",
    "                sigma_down = sigma[(i + 1) * N + j];\n",
    "            }\n",
    "                \n",
    "            u_centre = u[i * N + j];\n",
    "            sigma_centre = sigma[i * N + j];\n",
    "            \n",
    "            result[i * N + j] = -1.0 * ((0.5 * (sigma_down + sigma_centre) * (u_down - u_centre)/h -\n",
    "                                0.5 * (sigma_up + sigma_centre) * (u_centre - u_up)/h)/h +\n",
    "                                (0.5 * (sigma_right + sigma_centre) * (u_right - u_centre)/h -\n",
    "                                0.5 * (sigma_left + sigma_centre) * (u_centre - u_left)/h)/h);\n",
    "            \n",
    "        }\n",
    "\n",
    "        \"\"\"\n",
    "\n",
    "    prg = cl.Program(ctx, kernel)\n",
    "    prg.build()\n",
    "    poisson_equation_kernel = prg.solve_poisson_equation\n",
    "    mf = cl.mem_flags\n",
    "    \n",
    "    sigma_buffer = cl.Buffer(ctx, mf.COPY_HOST_PTR | mf.READ_ONLY, hostbuf=sigma)\n",
    "    u_buffer = cl.Buffer(ctx, mf.COPY_HOST_PTR | mf.READ_WRITE, hostbuf=u)\n",
    "    result_buffer = cl.Buffer(ctx, mf.ALLOC_HOST_PTR, size = N * N * 8)\n",
    "\n",
    "    poisson_equation_kernel(queue, (N, N), (1, 1), u_buffer, sigma_buffer, result_buffer)\n",
    "    \n",
    "    result, _ = cl.enqueue_map_buffer(queue, result_buffer, cl.map_flags.READ, 0, (N*N,), np.double)\n",
    "\n",
    "    queue.finish()\n",
    "\n",
    "    return result\n"
   ]
  },
  {
   "cell_type": "code",
   "execution_count": 10,
   "metadata": {},
   "outputs": [],
   "source": [
    "N = 10\n",
    "# sigma = make_sigma(N)\n",
    "sigma = make_random_sigma(N)\n",
    "\n",
    "A = LinearOperator((N*N,N*N),matvec=solve_poisson_equation)\n",
    "f = np.float64(np.ones(N*N))"
   ]
  },
  {
   "cell_type": "code",
   "execution_count": 11,
   "metadata": {},
   "outputs": [],
   "source": [
    "residuals_gmres = []\n",
    "def res_gmres(rk):\n",
    "    res = np.linalg.norm(rk)\n",
    "    residuals_gmres.append(res)\n",
    "    \n",
    "u_gmres, info_gmres = gmres(A, f, callback = res_gmres)\n",
    "residuals_gmres = np.array(residuals_gmres)\n",
    "u_gmres_mat = u_gmres.reshape(N,N)"
   ]
  },
  {
   "cell_type": "code",
   "execution_count": 13,
   "metadata": {},
   "outputs": [
    {
     "data": {
      "text/plain": [
       "array([0.99999917, 0.99999224, 1.00000615, 1.00001005, 1.00000063,\n",
       "       1.00000482, 0.99999923, 1.00000354, 1.00000167, 0.99999731,\n",
       "       0.99999213, 0.9999859 , 1.00000241, 1.00000936, 1.00001078,\n",
       "       0.99999844, 0.99999678, 0.99999782, 1.00000211, 1.00000237,\n",
       "       0.99999349, 0.99999299, 0.99999394, 1.00000001, 1.00000339,\n",
       "       0.99999338, 0.99999336, 0.99998605, 0.99999263, 0.99999995,\n",
       "       0.99999286, 0.99999276, 0.9999957 , 0.99998724, 0.99999184,\n",
       "       0.99998665, 0.99998708, 0.99999259, 0.99999188, 1.00000338,\n",
       "       0.99998911, 0.99999575, 1.00000229, 1.00000178, 0.99998598,\n",
       "       0.99999236, 0.99998118, 0.99999814, 0.99998962, 1.0000054 ,\n",
       "       1.00000025, 0.99999847, 0.99999815, 1.0000126 , 1.00000052,\n",
       "       0.99999459, 0.99999277, 0.99999607, 1.00000672, 0.99999634,\n",
       "       1.00000213, 1.00000341, 1.00001224, 1.00000106, 1.0000153 ,\n",
       "       0.99999974, 1.00000045, 1.00000821, 0.99999949, 1.00000277,\n",
       "       1.00000338, 1.00000078, 1.00000059, 1.00001397, 1.00001433,\n",
       "       1.00000748, 1.00000422, 0.99999942, 0.99999437, 0.99999052,\n",
       "       0.99999531, 0.99999716, 1.00000821, 1.00000549, 1.00000931,\n",
       "       1.00000463, 1.00001692, 1.00000097, 1.00000189, 0.99999689,\n",
       "       0.99999587, 0.99999815, 1.00000201, 1.00000729, 1.0000027 ,\n",
       "       1.00000659, 1.00001409, 1.00001279, 1.00000228, 1.00000334])"
      ]
     },
     "execution_count": 13,
     "metadata": {},
     "output_type": "execute_result"
    }
   ],
   "source": [
    "solve_poisson_equation(u_gmres)"
   ]
  },
  {
   "cell_type": "code",
   "execution_count": null,
   "metadata": {},
   "outputs": [],
   "source": [
    "def add_boundary(u_mat):\n",
    "    N = len(u_mat)+2\n",
    "    u = np.zeros((N,N))\n",
    "    for i in range(1,N-1):\n",
    "        for j in range(1,N-1):\n",
    "            u[i][j] = u_mat[i-1][j-1]\n",
    "    return u"
   ]
  },
  {
   "cell_type": "code",
   "execution_count": null,
   "metadata": {},
   "outputs": [],
   "source": [
    "u_gmres = add_boundary(u_gmres_mat)\n",
    "\n",
    "plt.figure(dpi=200,figsize=(5,5))\n",
    "plt.imshow(u_gmres,extent=[0,1,0,1],origin=\"lower\")\n",
    "plt.xlabel(\"x\")\n",
    "plt.ylabel(\"y\")\n",
    "plt.title(\"GMRes solution, N = {}\".format(N))\n",
    "\n",
    "print(u_gmres[1,1])\n",
    "print(u_gmres[10,10])\n",
    "print(u_gmres[22,16])\n",
    "print(u_gmres[15,15])"
   ]
  },
  {
   "cell_type": "code",
   "execution_count": null,
   "metadata": {},
   "outputs": [],
   "source": [
    "residuals_bicgstab = []\n",
    "def res_bicgstab(xk):\n",
    "    res = np.linalg.norm(f - A * xk)\n",
    "    residuals_bicgstab.append(res/np.linalg.norm(f))\n",
    "    \n",
    "u_bicgstab , info_bicgstab = bicgstab(A,f, callback = res_bicgstab)\n",
    "residuals_bicgstab = np.array(residuals_bicgstab)\n",
    "u_bicgstab_mat = u_bicgstab.reshape(N,N)"
   ]
  },
  {
   "cell_type": "code",
   "execution_count": null,
   "metadata": {},
   "outputs": [],
   "source": [
    "u_bicgstab = add_boundary(u_bicgstab_mat)\n",
    "\n",
    "plt.figure(2,dpi=200,figsize=(5,5))\n",
    "plt.imshow(u_bicgstab,extent=[0,1,0,1],origin=\"lower\")\n",
    "plt.xlabel(\"x\")\n",
    "plt.ylabel(\"y\")\n",
    "plt.title(\"BiCGSTAB Solution, N = {}\".format(N))\n",
    "\n",
    "print(u_bicgstab[1,1])\n",
    "print(u_bicgstab[10,10])\n",
    "print(u_bicgstab[22,16])\n",
    "print(u_bicgstab[15,15])"
   ]
  },
  {
   "cell_type": "code",
   "execution_count": null,
   "metadata": {},
   "outputs": [],
   "source": [
    "import matplotlib.pyplot as plt\n",
    "%matplotlib inline\n",
    "\n",
    "x_gmres = np.arange(1,len(residuals_gmres)+1)\n",
    "x_bicgstab = np.arange(1,len(residuals_bicgstab)+1)\n",
    "\n",
    "plt.figure(2,dpi=100,figsize=(8,5))\n",
    "plt.semilogy(x_gmres, residuals_gmres, \"b-\", label=\"gmres\")\n",
    "plt.semilogy(x_bicgstab, residuals_bicgstab, \"r-\", label=\"bicgstab\")\n",
    "plt.ylabel(\"Norm of Residuals\")\n",
    "plt.xlabel(\"Number of Iterations\")\n",
    "plt.legend()\n",
    "plt.grid(linestyle=\"--\")\n",
    "\n",
    "plt.show()"
   ]
  },
  {
   "cell_type": "code",
   "execution_count": null,
   "metadata": {},
   "outputs": [],
   "source": [
    "iterations_gmres = []\n",
    "iterations_bicgstab = []\n",
    "residuals_gmres = []\n",
    "residuals_bicgstab = []\n",
    "Npoints = []\n",
    "\n",
    "for N in range(10,55,5):\n",
    "    Npoints.append(N)\n",
    "    residuals_gmres = []\n",
    "    residuals_bicgstab = []\n",
    "    sigma = make_sigma(N)\n",
    "    A = LinearOperator((N*N,N*N),matvec=solve_poisson_equation,)\n",
    "    f = np.float64(np.ones(N*N))\n",
    "    u_gmres, info_gmres = gmres(A, f, callback = res_gmres)\n",
    "    u_bicgstab , info_bicgstab = bicgstab(A,f, callback = res_bicgstab)\n",
    "    iterations_gmres.append(len(residuals_gmres))\n",
    "    iterations_bicgstab.append(len(residuals_bicgstab))\n",
    "                               \n",
    "iterations_gmres = np.array(iterations_gmres)\n",
    "iterations_bicgstab = np.array(iterations_bicgstab)\n",
    "Npoints = np.array(Npoints)                               "
   ]
  },
  {
   "cell_type": "code",
   "execution_count": null,
   "metadata": {},
   "outputs": [],
   "source": [
    "from scipy.stats import linregress\n",
    "\n",
    "xpoints = np.linspace(9,101)\n",
    "slope, intercept, rvalue, pvalue, stderr = linregress(np.log10(Npoints),np.log10(iterations_gmres))\n",
    "print(\"gmres fit: y = {} x + {} with rvalue: {}\".format(slope,intercept,rvalue))\n",
    "y_gmres = slope*np.log10(xpoints) + intercept\n",
    "y_gmres = 10**y_gmres"
   ]
  },
  {
   "cell_type": "code",
   "execution_count": null,
   "metadata": {},
   "outputs": [],
   "source": [
    "slope, intercept, rvalue, pvalue, stderr = linregress(np.log10(Npoints),np.log10(iterations_bicgstab))\n",
    "print(\"bicgstab fit: y = {} x + {} with rvalue: {}\".format(slope,intercept,rvalue))\n",
    "y_bicgstab = slope*np.log10(xpoints) + intercept\n",
    "y_bicgstab = 10**y_bicgstab"
   ]
  },
  {
   "cell_type": "code",
   "execution_count": null,
   "metadata": {},
   "outputs": [],
   "source": [
    "plt.figure(dpi=200,figsize=(8,5))\n",
    "plt.xlabel(\"Number of discretisation points\")\n",
    "plt.ylabel(\"Number of iterations for convergence\")\n",
    "\n",
    "plt.semilogy((xpoints),(y_gmres), \"g-\",label = \"gmres fit\")\n",
    "plt.semilogy((Npoints),(iterations_gmres),\"rx\",label=\"gmres\")\n",
    "plt.semilogy((xpoints),(y_bicgstab), \"k-\", label = \"bicgstab fit\")\n",
    "plt.semilogy((Npoints),(iterations_bicgstab),\"bx\",label=\"bicgstab\")\n",
    "plt.grid(linestyle=\"--\")\n",
    "plt.legend()"
   ]
  },
  {
   "cell_type": "code",
   "execution_count": null,
   "metadata": {},
   "outputs": [],
   "source": []
  }
 ],
 "metadata": {
  "kernelspec": {
   "display_name": "Python 3",
   "language": "python",
   "name": "python3"
  },
  "language_info": {
   "codemirror_mode": {
    "name": "ipython",
    "version": 3
   },
   "file_extension": ".py",
   "mimetype": "text/x-python",
   "name": "python",
   "nbconvert_exporter": "python",
   "pygments_lexer": "ipython3",
   "version": "3.7.2"
  }
 },
 "nbformat": 4,
 "nbformat_minor": 2
}
