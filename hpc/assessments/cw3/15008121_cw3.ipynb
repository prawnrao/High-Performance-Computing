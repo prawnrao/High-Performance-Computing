{
 "cells": [
  {
   "cell_type": "code",
   "execution_count": 36,
   "metadata": {},
   "outputs": [],
   "source": [
    "import numpy as np\n",
    "from scipy.sparse.linalg import LinearOperator\n",
    "import matplotlib.pyplot as plt\n",
    "%matplotlib inline"
   ]
  },
  {
   "cell_type": "code",
   "execution_count": 37,
   "metadata": {},
   "outputs": [],
   "source": [
    "def calc_random_sigma(N, mean=0.5, sd=0.1, seed=0):\n",
    "    S = np.random.RandomState(seed).normal(mean, sd, (N, N))\n",
    "    return np.exp(np.negative(S))\n",
    "\n",
    "def calc_sigma(N):\n",
    "    h = 1/(N-1)\n",
    "    x = np.arange(0,(1+h),h)\n",
    "    y = np.arange(0,(1+h),h)\n",
    "    sigma = np.zeros((N,N))\n",
    "    \n",
    "    for i in range(0,N):\n",
    "        for j in range(0,N):\n",
    "            sigma[i][j] = 1 + x[i] * x[i] + y[j] * y[j]\n",
    "    return sigma\n"
   ]
  },
  {
   "cell_type": "code",
   "execution_count": 38,
   "metadata": {},
   "outputs": [],
   "source": [
    "def solve_equation(u_n):\n",
    "    N = np.int32(np.sqrt(u_n.shape[0]))\n",
    "    result = np.empty((N*N),dtype='float64')\n",
    "    sigma = calc_sigma(N)\n",
    "    h = 1.0/(N - 1)\n",
    "    \n",
    "    for i in range(0, N):\n",
    "        for j in range(0, N):\n",
    "            if(i == 0 or j == 0 or i == N - 1 or j == N - 1):\n",
    "                result[i * N + j] = 0\n",
    "            else:\n",
    "                u_up = u_n[(i - 1) * N + j]\n",
    "                u_down = u_n[(i + 1) * N + j]\n",
    "                u_left = u_n[i * N + (j - 1)]\n",
    "                u_right = u_n[i * N + (j + 1)]\n",
    "                u_centre = u_n[i * N + j]\n",
    "                sigma_up = sigma[i - 1][j]\n",
    "                sigma_down = sigma[i + 1][j]\n",
    "                sigma_left = sigma[i][j - 1]\n",
    "                sigma_right = sigma[i][j + 1]\n",
    "                sigma_centre = sigma[i][j]\n",
    "            \n",
    "                result[i * N + j] = np.negative(\n",
    "                    (0.5 * (sigma_down + sigma_centre) * (u_down - u_centre) -\n",
    "                    (0.5 * (sigma_up + sigma_centre) * (u_centre - u_up)) +\n",
    "                    (0.5 * (sigma_right + sigma_centre) * (u_right - u_centre)) -\n",
    "                    (0.5 * (sigma_left + sigma_centre) * (u_centre - u_left)))/(h*h))\n",
    "    return result"
   ]
  },
  {
   "cell_type": "code",
   "execution_count": 39,
   "metadata": {},
   "outputs": [],
   "source": [
    "N = 10\n",
    "A = LinearOperator((N*N,N*N),matvec=solve_equation)\n",
    "f = np.float64(np.ones(N*N))\n",
    "for i in range(0,N):\n",
    "    for j in range(0,N):\n",
    "        if(i == 0 or i == N - 1 or j == 0 or j == N - 1):\n",
    "            f[i * N + j] = 0"
   ]
  },
  {
   "cell_type": "code",
   "execution_count": 40,
   "metadata": {},
   "outputs": [],
   "source": [
    "from scipy.sparse.linalg import gmres"
   ]
  },
  {
   "cell_type": "code",
   "execution_count": 41,
   "metadata": {},
   "outputs": [],
   "source": [
    "residuals = []\n",
    "def sum_of_res_gmres(rk):\n",
    "    residuals.append(rk.sum())"
   ]
  },
  {
   "cell_type": "code",
   "execution_count": 42,
   "metadata": {},
   "outputs": [
    {
     "data": {
      "text/plain": [
       "0"
      ]
     },
     "execution_count": 42,
     "metadata": {},
     "output_type": "execute_result"
    }
   ],
   "source": [
    "u_gmres, info_gmres = gmres(A, f, callback = sum_of_res_gmres)\n",
    "info_gmres"
   ]
  },
  {
   "cell_type": "code",
   "execution_count": 43,
   "metadata": {},
   "outputs": [],
   "source": [
    "residuals = np.array(residuals)"
   ]
  },
  {
   "cell_type": "code",
   "execution_count": 44,
   "metadata": {},
   "outputs": [
    {
     "data": {
      "text/plain": [
       "<matplotlib.image.AxesImage at 0x11862ee48>"
      ]
     },
     "execution_count": 44,
     "metadata": {},
     "output_type": "execute_result"
    },
    {
     "data": {
      "image/png": "[encoded data removed]",
      "text/plain": [
       "<Figure size 800x800 with 1 Axes>"
      ]
     },
     "metadata": {
      "needs_background": "light"
     },
     "output_type": "display_data"
    }
   ],
   "source": [
    "plt.figure(1,dpi=100,figsize=(8,8))\n",
    "plt.imshow(u_gmres.reshape(N,N),extent=[0,1,0,1])"
   ]
  },
  {
   "cell_type": "code",
   "execution_count": 10,
   "metadata": {
    "scrolled": false
   },
   "outputs": [],
   "source": [
    "# plt.figure(1,dpi=100,figsize=(10,5))\n",
    "# x = np.arange(1,len(residuals)+1)\n",
    "# plt.plot(x, residuals, \"x-\", label=\"gmres\")\n",
    "# plt.ylabel(\"Sum of residuals\")\n",
    "# plt.xlabel(\"Number of Iterations\")\n",
    "# plt.xticks(np.arange(0, len(residuals)+1, step=1))\n",
    "# plt.legend()\n",
    "# plt.grid(linestyle=\"--\")\n",
    "\n",
    "# plt.figure(2,dpi=100,figsize=(10,5))\n",
    "# plt.plot(x, np.log10(residuals), \"x-\", label=\"gmres\")\n",
    "# plt.ylabel(\"log10(Sum of residuals)\")\n",
    "# plt.xlabel(\"Number of Iterations\")\n",
    "# plt.xticks(np.arange(0, len(residuals)+1, step=1))\n",
    "# plt.legend()\n",
    "# plt.grid(linestyle=\"--\")\n",
    "\n",
    "# plt.show()"
   ]
  },
  {
   "cell_type": "code",
   "execution_count": null,
   "metadata": {},
   "outputs": [],
   "source": []
  }
 ],
 "metadata": {
  "kernelspec": {
   "display_name": "Python 3",
   "language": "python",
   "name": "python3"
  },
  "language_info": {
   "codemirror_mode": {
    "name": "ipython",
    "version": 3
   },
   "file_extension": ".py",
   "mimetype": "text/x-python",
   "name": "python",
   "nbconvert_exporter": "python",
   "pygments_lexer": "ipython3",
   "version": "3.7.2"
  }
 },
 "nbformat": 4,
 "nbformat_minor": 2
}
