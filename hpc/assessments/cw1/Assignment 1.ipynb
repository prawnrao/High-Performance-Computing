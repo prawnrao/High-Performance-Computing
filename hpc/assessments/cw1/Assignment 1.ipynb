{
 "cells": [
  {
   "cell_type": "markdown",
   "metadata": {},
   "source": [
    "# Assignment 1 (Due 25 January)"
   ]
  },
  {
   "cell_type": "markdown",
   "metadata": {},
   "source": [
    "The goal of this assignment is to write a simple particle simulator. Assume we have $N$ particles with strength $k_j > 0$ at the positions $x_j\\in\\mathbb{R}^2$, $j=0,\\dots, N-1$. Each particle creates a potential at a given point $x$ of strength $V_j(x) = -k_j\\log |x-x_j|$. The total potential at a given position $x$ is therefore\n",
    "$$\n",
    "V(x) = -\\sum_{j=0}^{N-1}k_j\\log|x-x_j|.\n",
    "$$"
   ]
  },
  {
   "cell_type": "markdown",
   "metadata": {},
   "source": [
    "The following code generates $N$ particle positions and a vector of associated strengths."
   ]
  },
  {
   "cell_type": "code",
   "execution_count": null,
   "metadata": {},
   "outputs": [],
   "source": [
    "import numpy as np\n",
    "\n",
    "N = 100\n",
    "\n",
    "rand = np.random.RandomState(0)\n",
    "pos = rand.rand(N, 2)\n",
    "k = rand.rand(N)"
   ]
  },
  {
   "cell_type": "code",
   "execution_count": null,
   "metadata": {},
   "outputs": [],
   "source": [
    "import pyopencl as cl\n",
    "ctx = cl.create_some_context()\n",
    "queue = cl.CommandQueue"
   ]
  },
  {
   "cell_type": "markdown",
   "metadata": {},
   "source": [
    "Let us plot the corresponding particle positions."
   ]
  },
  {
   "cell_type": "code",
   "execution_count": null,
   "metadata": {},
   "outputs": [],
   "source": [
    "%matplotlib inline\n",
    "from matplotlib import pyplot as plt\n",
    "fig = plt.figure(figsize=(10, 10))\n",
    "ax = fig.add_subplot(111)\n",
    "ax.plot(pos[:, 0], pos[:, 1], 'k.', markersize=4)\n",
    "ax.set_aspect('equal')"
   ]
  },
  {
   "cell_type": "markdown",
   "metadata": {},
   "source": [
    "Implement the following function **evaluate_field** that evaluates the potential field at a given set of points:"
   ]
  },
  {
   "cell_type": "code",
   "execution_count": null,
   "metadata": {},
   "outputs": [],
   "source": [
    "def evaluate_field(evaluation_points, source_positions, strength_vector,\n",
    "                   implementation='numba'):\n",
    "    \"\"\"\n",
    "    Evaluate a field at a given set of points.\n",
    "    \n",
    "    Parameters\n",
    "    ------------\n",
    "    evaluation_points : np.ndarray\n",
    "        A (M, 2) float64 array of M positions that contain the \n",
    "        two dimensional points at which to evaluate the field.\n",
    "    source_positions : np.ndarray\n",
    "        A (N, 2) float64 array of N source positions that contain\n",
    "        the source locations\n",
    "    strength_vector : np.ndarray\n",
    "        A (N, ) float64 array of the strengths associated with\n",
    "        each source.\n",
    "    implementaiton : string\n",
    "        Either 'numba' or 'opencl' to use a Numba or OpenCL\n",
    "        implementation.\n",
    "        \n",
    "    Returns\n",
    "    -------------\n",
    "    A (M, ) float64 vector of the field values at the corresponding\n",
    "    evaluation points.\n",
    "    \n",
    "    \"\"\"\n",
    "    if implementation == 'opencl':\n",
    "        return evaluate_field_opencl(evaluation_points, source_positions,\n",
    "                                     strength_vector)\n",
    "\n",
    "def evaluate_field_opencl(evaluation_points, source_positions,\n",
    "                          strength_vector):\n",
    "    \"\"\"OpenCL Implementation\"\"\"\n",
    "    \n",
    "    kernel = \"\"\"\n",
    "    \n",
    "    __kernel void evaluate_potential(__global double *evaluationPoints,\n",
    "                                     __global double *sourcePoints,\n",
    "                                     __global double *strengthVector,\n",
    "                                     __global double *result)\n",
    "    {\n",
    "    \n",
    "    int gid = get_global_id(0);\n",
    "    \n",
    "    // Example assignment of result back\n",
    "    \n",
    "    double myResult = 0;\n",
    "    \n",
    "    result[gid] = myResult;\n",
    "    \n",
    "    // How to debug\n",
    "    // The following prints out myResult on work item 0 using the\n",
    "    // system stdout.\n",
    "    \n",
    "    if (gid == 0) printf(\\\"myResult\\\\n\\\", myResult);\n",
    "        \n",
    "    }\n",
    "    \n",
    "    \"\"\" \n",
    "    \n",
    "    n_eval_points = evaluation_points.shape[0]\n",
    "    n_source_positions = source_positions.shape[0]\n",
    "    \n",
    "    mf = cl.mem_flags\n",
    "    \n",
    "    eval_buffer = cl.Buffer(ctx, mf.COPY_HOST_PTR | mf.READ_ONLY, hostbuf=evaluation_points)\n",
    "    source_buffer = cl.Buffer(ctx, mf.COPY_HOST_PTR | mf.READ_ONLY, hostbuf=source_positions)\n",
    "    strength_buffer = cl.Buffer(ctx, mf.COPY_HOST_PTR | mf.READ_ONLY, hostbuf=strength_vector)\n",
    "    result_buffer = cl.Buffer(ctx, mf.ALLOC_HOST_PTR, size=evaluation_points.shape[0] * 8)\n",
    "    \n",
    "    prg = cl.Program(ctx, kernel)\n",
    "    prg.build()\n",
    "    potential_kernel = prg.evaluate_potential\n",
    "    \n",
    "    potential_kernel(queue, (n_eval_points, ), (1, ),\n",
    "                     eval_buffer, source_buffer, strength_buffer, result_buffer)\n",
    "    \n",
    "    result, _ = cl.enqueue_map_buffer(queue, result_buffer, cl.map_flags.READ,\n",
    "                                      0, (n_eval_points, ), np.double)\n",
    "    queue.finish()\n",
    "    \n",
    "    return result"
   ]
  },
  {
   "cell_type": "markdown",
   "metadata": {},
   "source": [
    "To implement this function it makes sense not to write everything as one single function, but to have two implementations, **evaluate_field_opencl** and **evaluate_field_numba**, which are chosen depending on the *implementation* parameter."
   ]
  },
  {
   "cell_type": "markdown",
   "metadata": {},
   "source": [
    "To allow the marker to check the correctess of your implementation run the following test."
   ]
  },
  {
   "cell_type": "code",
   "execution_count": null,
   "metadata": {},
   "outputs": [],
   "source": [
    "evaluation_points = np.array([[1.5, 1.3], [1.8, 1.6]], dtype='float64')\n",
    "\n",
    "result_numba = evaluate_field(evaluation_points, pos, k, implementation='numba')\n",
    "result_opencl = evaluate_field(evaluation_points, pos, k, implementation='opencl')\n",
    "\n",
    "print(result_numba)\n",
    "print(result_opencl)"
   ]
  },
  {
   "cell_type": "markdown",
   "metadata": {},
   "source": [
    "Obviously, both results should be identical. For OpenCL you should work with *float64* data types. The code must run using the pocl CPU OpenCL driver provided on Microsoft Azure Notebook."
   ]
  },
  {
   "cell_type": "markdown",
   "metadata": {},
   "source": [
    "Finally, we want to make timing measurements and also plot the results. Let us define a grid of evaluation points in the unit square."
   ]
  },
  {
   "cell_type": "code",
   "execution_count": null,
   "metadata": {},
   "outputs": [],
   "source": [
    "Nx = 100\n",
    "Ny = 100\n",
    "xpoints, ypoints = np.mgrid[0 : 1: 1j * Nx, 0 : 1: 1j * Ny]\n",
    "evaluation_points = np.vstack([xpoints.ravel(), ypoints.ravel()]).T"
   ]
  },
  {
   "cell_type": "markdown",
   "metadata": {},
   "source": [
    "We also need our usual timer class."
   ]
  },
  {
   "cell_type": "code",
   "execution_count": null,
   "metadata": {},
   "outputs": [],
   "source": [
    "import time\n",
    "\n",
    "class Timer:    \n",
    "    def __enter__(self):\n",
    "        self.start = time.time()\n",
    "        return self\n",
    "\n",
    "    def __exit__(self, *args):\n",
    "        self.end = time.time()\n",
    "        self.interval = self.end - self.start"
   ]
  },
  {
   "cell_type": "markdown",
   "metadata": {},
   "source": [
    "Now run the following two timing experiments:"
   ]
  },
  {
   "cell_type": "code",
   "execution_count": null,
   "metadata": {},
   "outputs": [],
   "source": [
    "with Timer() as t:\n",
    "    result_numba = evaluate_field(evaluation_points, pos, k, implementation='numba')\n",
    "print(t.interval)\n",
    "\n",
    "with Timer() as t:\n",
    "    result_opencl = evaluate_field(evaluation_points, pos, k, implementation='opencl')\n",
    "print(t.interval)"
   ]
  },
  {
   "cell_type": "markdown",
   "metadata": {},
   "source": [
    "Finally, we want to plot the results. We plot the logs since the result will be large close to the poles."
   ]
  },
  {
   "cell_type": "code",
   "execution_count": null,
   "metadata": {},
   "outputs": [],
   "source": [
    "result_numba = np.log10(np.abs(result_numba.reshape(Nx, Ny)))\n",
    "result_opencl = np.log10(np.abs(result_opencl.reshape(Nx, Ny)))"
   ]
  },
  {
   "cell_type": "code",
   "execution_count": null,
   "metadata": {},
   "outputs": [],
   "source": [
    "figure = plt.figure(figsize=(20, 20))\n",
    "ax1 = figure.add_subplot(121)\n",
    "ax2 = figure.add_subplot(122)\n",
    "\n",
    "ax1.imshow(result_numba.T, extent=[0, 1, 0, 1], origin='lower')\n",
    "ax1.set_aspect('equal')\n",
    "ax1.set_title('Numba')\n",
    "\n",
    "ax2.imshow(result_opencl.T, extent=[0, 1, 0, 1], origin='lower')\n",
    "ax2.set_aspect('equal')\n",
    "ax2.set_title('OpenCL')\n"
   ]
  },
  {
   "cell_type": "markdown",
   "metadata": {},
   "source": [
    "## Marking"
   ]
  },
  {
   "cell_type": "markdown",
   "metadata": {},
   "source": [
    "A correct Numba implementation is worth 50%. A correct OpenCL implementation is worth a further 20%.\n",
    "Coding style (clean code following PEP8 standard and good comments) is worth 10%.\n",
    "Finally, I am comparing timing results from all implementations on my machine. The solutions from all students will be ranked and given bonus\n",
    "marks depending on their ranking (20 bonus marks for the fastest solution, 0 bonus marks for the slowest solution). Bonus marks will only be\n",
    "added for students who provide a correct Numba and OpenCL implementation.\n",
    "\n",
    "**Make sure that your implementation of the evaluate_field function exactly follows the given signature. Changing the signature results in\n",
    "0 marks being given for the assignment.**\n",
    "\n",
    "To submit your assignment a corresponding submission link on Moodle will be enabled. Please submit one Jupyter notebook. Multi-file solutions will not be accepted."
   ]
  },
  {
   "cell_type": "code",
   "execution_count": null,
   "metadata": {},
   "outputs": [],
   "source": []
  }
 ],
 "metadata": {
  "kernelspec": {
   "display_name": "Python 3",
   "language": "python",
   "name": "python3"
  },
  "language_info": {
   "codemirror_mode": {
    "name": "ipython",
    "version": 3
   },
   "file_extension": ".py",
   "mimetype": "text/x-python",
   "name": "python",
   "nbconvert_exporter": "python",
   "pygments_lexer": "ipython3",
   "version": "3.7.2"
  }
 },
 "nbformat": 4,
 "nbformat_minor": 1
}
