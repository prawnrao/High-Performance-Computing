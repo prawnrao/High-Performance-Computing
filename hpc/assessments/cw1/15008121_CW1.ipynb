{
 "cells": [
  {
   "cell_type": "markdown",
   "metadata": {},
   "source": [
    "The goal of this assignment is to write a simple particle simulator. Assume we have $N$ particles with strength $k_j > 0$ at the positions $x_j\\in\\mathbb{R}^2$, $j=0,\\dots, N-1$. Each particle creates a potential at a given point $x$ of strength $V_j(x) = -k_j\\log |x-x_j|$. The total potential at a given position $x$ is therefore\n",
    "$$\n",
    "V(x) = -\\sum_{j=0}^{N-1}k_j\\log|x-x_j|.\n",
    "$$"
   ]
  },
  {
   "cell_type": "code",
   "execution_count": 13,
   "metadata": {},
   "outputs": [],
   "source": [
    "import time\n",
    "import timeit\n",
    "import numpy as np\n",
    "from numpy import linalg as LA\n",
    "from numba import jit, prange\n",
    "import pyopencl as cl\n",
    "from matplotlib import pyplot as plt\n",
    "ctx = cl.create_some_context()\n",
    "queue = cl.CommandQueue(ctx)"
   ]
  },
  {
   "cell_type": "code",
   "execution_count": 14,
   "metadata": {},
   "outputs": [],
   "source": [
    "N = np.int32(100)\n",
    "rand = np.random.RandomState(0)\n",
    "pos = rand.rand(N, 2)\n",
    "k = rand.rand(N)"
   ]
  },
  {
   "cell_type": "code",
   "execution_count": 15,
   "metadata": {},
   "outputs": [
    {
     "data": {
      "text/plain": [
       "[<matplotlib.lines.Line2D at 0x12979e780>]"
      ]
     },
     "execution_count": 15,
     "metadata": {},
     "output_type": "execute_result"
    },
    {
     "data": {
      "image/png": "[encoded data removed]",
      "text/plain": [
       "<Figure size 720x720 with 1 Axes>"
      ]
     },
     "metadata": {
      "needs_background": "light"
     },
     "output_type": "display_data"
    }
   ],
   "source": [
    "fig = plt.figure(figsize=(10, 10))\n",
    "ax = fig.add_subplot(111)\n",
    "ax.plot(pos[:, 0], pos[:, 1], 'b.', markersize=5)"
   ]
  },
  {
   "cell_type": "code",
   "execution_count": 16,
   "metadata": {},
   "outputs": [],
   "source": [
    "@jit(nopython=True,parallel=True)\n",
    "def evaluate_field_numba(evaluation_points, source_points, strength_vector):\n",
    "    \"\"\"Numba implementation of the evaluate_field function\n",
    "    \"\"\"\n",
    "    field = np.zeros(len(evaluation_points), np.float64)\n",
    "    for i in prange(len(evaluation_points)):\n",
    "        potential = np.float64(0)\n",
    "        for j in prange(len(source_points)):\n",
    "            norm = LA.norm(evaluation_points[i] - source_points[j])\n",
    "            potential -= strength_vector[j] * (np.log(norm))\n",
    "        field[i] = potential\n",
    "    \n",
    "    return field"
   ]
  },
  {
   "cell_type": "code",
   "execution_count": 17,
   "metadata": {},
   "outputs": [],
   "source": [
    "def evaluate_field_opencl(evaluation_points, source_positions,\n",
    "                          strength_vector):\n",
    "    \"\"\"OpenCL implementation of the evaluate_field function\n",
    "    \"\"\"\n",
    "    \n",
    "    kernel = \"\"\"\n",
    "    __kernel void evaluate_potential(const int N,\n",
    "                                    __global double *evaluationPoints,\n",
    "                                    __global double *sourcePoints,\n",
    "                                    __global double *strengthVector,\n",
    "                                    __global double *field)\n",
    "    {\n",
    "        //Identifies the thread\n",
    "        int i = get_global_id(0);\n",
    "        \n",
    "        //Resets potential matrix element\n",
    "        double potential = 0.0f;\n",
    "        \n",
    "        //Evaluates the x and y values required to calculate the norm\n",
    "        for(int j = 0; j < N; j++)\n",
    "        {\n",
    "            double currX = evaluationPoints[2 * i] - sourcePoints[2 * j];\n",
    "            double currY = evaluationPoints[2 * i + 1] - sourcePoints[2 * j + 1];\n",
    "            \n",
    "            //Evaluates the norm\n",
    "            //double norm = sqrt(pow(currX,2) + pow(currY,2));\n",
    "            double norm = 1.0;\n",
    "            //Evaluates the potential\n",
    "            potential -= strengthVector[j] * log(norm);\n",
    "        }\n",
    "        \n",
    "        //Fills the field matrix with potentials\n",
    "        field[i] = potential;\n",
    "    }\n",
    "    \"\"\"\n",
    "    #this converts the evaluation points into a 1d array\n",
    "    #which is required when passed to the kernel.\n",
    "    evaluation_points = np.ascontiguousarray(evaluation_points) \n",
    "    n_eval_points = len(evaluation_points)\n",
    "    n_source_points = np.int32(source_positions.shape[0])\n",
    "    \n",
    "    mf = cl.mem_flags\n",
    "    \n",
    "    eval_buffer = cl.Buffer(ctx, mf.COPY_HOST_PTR | mf.READ_ONLY,\n",
    "                            hostbuf=evaluation_points)\n",
    "    source_buffer = cl.Buffer(ctx, mf.COPY_HOST_PTR | mf.READ_ONLY,\n",
    "                              hostbuf=source_positions)\n",
    "    strength_buffer = cl.Buffer(ctx, mf.COPY_HOST_PTR | mf.READ_ONLY,\n",
    "                                hostbuf=strength_vector)\n",
    "    result_buffer = cl.Buffer(ctx, mf.ALLOC_HOST_PTR,\n",
    "                              size=evaluation_points.shape[0] * 8)\n",
    "                            \n",
    "    prg = cl.Program(ctx, kernel)\n",
    "    prg.build()\n",
    "    potential_kernel = prg.evaluate_potential\n",
    "    \n",
    "    potential_kernel(queue, (n_eval_points, ), (1, ), n_source_points,\n",
    "                     eval_buffer, source_buffer, strength_buffer,\n",
    "                     result_buffer)\n",
    "    \n",
    "    field, _ = cl.enqueue_map_buffer(queue, result_buffer,\n",
    "                                     cl.map_flags.READ, 0,\n",
    "                                     (n_eval_points,), np.double)\n",
    "    queue.finish()\n",
    "    \n",
    "    return field\n"
   ]
  },
  {
   "cell_type": "code",
   "execution_count": 18,
   "metadata": {},
   "outputs": [],
   "source": [
    "def evaluate_field(evaluation_points, source_points, strength_vector, \n",
    "                   implementation='numba'):\n",
    "    \"\"\"This function chooses which implementation of evaluate field is used.\n",
    "    \"\"\"\n",
    "    if implementation == 'numba':\n",
    "        return evaluate_field_numba(evaluation_points,source_points, \n",
    "                                    strength_vector)\n",
    "    \n",
    "    if implementation == 'opencl':\n",
    "        return evaluate_field_opencl(evaluation_points,source_points, \n",
    "                                     strength_vector)\n",
    "    "
   ]
  },
  {
   "cell_type": "code",
   "execution_count": 19,
   "metadata": {
    "scrolled": false
   },
   "outputs": [
    {
     "name": "stdout",
     "output_type": "stream",
     "text": [
      "[-12.04897855 -26.74485914]\n",
      "[0. 0.]\n"
     ]
    }
   ],
   "source": [
    "test_evaluation_points = np.array([[1.5, 1.3], [1.8, 1.6]], np.float64)\n",
    "\n",
    "result_numba = evaluate_field(\n",
    "    test_evaluation_points, pos, k, implementation='numba')\n",
    "result_opencl = evaluate_field(\n",
    "    test_evaluation_points, pos, k, implementation='opencl')\n",
    "\n",
    "print(result_numba)\n",
    "print(result_opencl)"
   ]
  },
  {
   "cell_type": "code",
   "execution_count": 20,
   "metadata": {},
   "outputs": [],
   "source": [
    "Nx = 100\n",
    "Ny = 100\n",
    "xpoints, ypoints = np.mgrid[0: 1: 1j * Nx, 0: 1: 1j * Ny]\n",
    "evaluation_points = np.vstack([xpoints.ravel(), ypoints.ravel()]).T"
   ]
  },
  {
   "cell_type": "code",
   "execution_count": 21,
   "metadata": {},
   "outputs": [],
   "source": [
    "class Timer:\n",
    "\n",
    "    def __enter__(self):\n",
    "        self.start = time.time()\n",
    "        return self\n",
    "\n",
    "    def __exit__(self, *args):\n",
    "        self.end = time.time()\n",
    "        self.interval = self.end - self.start"
   ]
  },
  {
   "cell_type": "code",
   "execution_count": 22,
   "metadata": {},
   "outputs": [
    {
     "name": "stdout",
     "output_type": "stream",
     "text": [
      "1.5836079120635986\n",
      "0.00921010971069336\n"
     ]
    }
   ],
   "source": [
    "with Timer() as t:\n",
    "    result_numba = evaluate_field(evaluation_points, pos, k, \n",
    "                                  implementation='numba')\n",
    "print(t.interval)\n",
    "\n",
    "with Timer() as t:\n",
    "    result_opencl = evaluate_field(evaluation_points, pos, k, \n",
    "                                   implementation='opencl')\n",
    "print(t.interval)"
   ]
  },
  {
   "cell_type": "code",
   "execution_count": 23,
   "metadata": {},
   "outputs": [
    {
     "name": "stderr",
     "output_type": "stream",
     "text": [
      "/usr/local/bin/miniconda3/lib/python3.7/site-packages/ipykernel_launcher.py:2: RuntimeWarning: divide by zero encountered in log10\n",
      "  \n"
     ]
    }
   ],
   "source": [
    "result_numba = np.log10(np.abs(result_numba.reshape(Nx, Ny)))\n",
    "result_opencl = np.log10(np.abs(result_opencl.reshape(Nx, Ny)))"
   ]
  },
  {
   "cell_type": "code",
   "execution_count": 24,
   "metadata": {},
   "outputs": [
    {
     "data": {
      "text/plain": [
       "Text(0.5, 1.0, 'OpenCL')"
      ]
     },
     "execution_count": 24,
     "metadata": {},
     "output_type": "execute_result"
    },
    {
     "name": "stderr",
     "output_type": "stream",
     "text": [
      "/usr/local/bin/miniconda3/lib/python3.7/site-packages/matplotlib/image.py:395: UserWarning: Warning: converting a masked element to nan.\n",
      "  dv = (np.float64(self.norm.vmax) -\n",
      "/usr/local/bin/miniconda3/lib/python3.7/site-packages/matplotlib/image.py:396: UserWarning: Warning: converting a masked element to nan.\n",
      "  np.float64(self.norm.vmin))\n",
      "/usr/local/bin/miniconda3/lib/python3.7/site-packages/matplotlib/image.py:403: UserWarning: Warning: converting a masked element to nan.\n",
      "  a_min = np.float64(newmin)\n",
      "/usr/local/bin/miniconda3/lib/python3.7/site-packages/matplotlib/image.py:408: UserWarning: Warning: converting a masked element to nan.\n",
      "  a_max = np.float64(newmax)\n",
      "/usr/local/bin/miniconda3/lib/python3.7/site-packages/matplotlib/colors.py:918: UserWarning: Warning: converting a masked element to nan.\n",
      "  dtype = np.min_scalar_type(value)\n",
      "/usr/local/bin/miniconda3/lib/python3.7/site-packages/numpy/ma/core.py:718: UserWarning: Warning: converting a masked element to nan.\n",
      "  data = np.array(a, copy=False, subok=subok)\n"
     ]
    },
    {
     "data": {
      "image/png": "[encoded data removed]",
      "text/plain": [
       "<Figure size 1440x1440 with 2 Axes>"
      ]
     },
     "metadata": {
      "needs_background": "light"
     },
     "output_type": "display_data"
    }
   ],
   "source": [
    "figure = plt.figure(figsize=(20, 20))\n",
    "ax1 = figure.add_subplot(121)\n",
    "ax2 = figure.add_subplot(122)\n",
    "\n",
    "ax1.imshow(result_numba.T, extent=[0, 1, 0, 1], origin='lower')\n",
    "ax1.set_aspect('equal')\n",
    "ax1.set_title('Numba')\n",
    "\n",
    "ax2.imshow(result_opencl.T, extent=[0, 1, 0, 1], origin='lower')\n",
    "ax2.set_aspect('equal')\n",
    "ax2.set_title('OpenCL')"
   ]
  },
  {
   "cell_type": "code",
   "execution_count": null,
   "metadata": {},
   "outputs": [],
   "source": []
  }
 ],
 "metadata": {
  "kernelspec": {
   "display_name": "Python 3",
   "language": "python",
   "name": "python3"
  },
  "language_info": {
   "codemirror_mode": {
    "name": "ipython",
    "version": 3
   },
   "file_extension": ".py",
   "mimetype": "text/x-python",
   "name": "python",
   "nbconvert_exporter": "python",
   "pygments_lexer": "ipython3",
   "version": "3.7.2"
  }
 },
 "nbformat": 4,
 "nbformat_minor": 2
}
