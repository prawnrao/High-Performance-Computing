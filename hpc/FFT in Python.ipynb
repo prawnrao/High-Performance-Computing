{
 "cells": [
  {
   "cell_type": "markdown",
   "metadata": {
    "collapsed": true
   },
   "source": [
    "## FFT with Scipy"
   ]
  },
  {
   "cell_type": "markdown",
   "metadata": {},
   "source": [
    "Here, we demonstrate the Scipy FFT interface. Depending on performance requirements, other libraries may be more suitable. But the Scipy FFT is almost always available."
   ]
  },
  {
   "cell_type": "code",
   "execution_count": 9,
   "metadata": {},
   "outputs": [],
   "source": [
    "from scipy.fftpack import fft\n",
    "import numpy as _np"
   ]
  },
  {
   "cell_type": "code",
   "execution_count": 8,
   "metadata": {},
   "outputs": [
    {
     "name": "stdout",
     "output_type": "stream",
     "text": [
      "Help on function fft in module scipy.fftpack.basic:\n",
      "\n",
      "fft(x, n=None, axis=-1, overwrite_x=False)\n",
      "    Return discrete Fourier transform of real or complex sequence.\n",
      "    \n",
      "    The returned complex array contains ``y(0), y(1),..., y(n-1)`` where\n",
      "    \n",
      "    ``y(j) = (x * exp(-2*pi*sqrt(-1)*j*np.arange(n)/n)).sum()``.\n",
      "    \n",
      "    Parameters\n",
      "    ----------\n",
      "    x : array_like\n",
      "        Array to Fourier transform.\n",
      "    n : int, optional\n",
      "        Length of the Fourier transform.  If ``n < x.shape[axis]``, `x` is\n",
      "        truncated.  If ``n > x.shape[axis]``, `x` is zero-padded. The\n",
      "        default results in ``n = x.shape[axis]``.\n",
      "    axis : int, optional\n",
      "        Axis along which the fft's are computed; the default is over the\n",
      "        last axis (i.e., ``axis=-1``).\n",
      "    overwrite_x : bool, optional\n",
      "        If True, the contents of `x` can be destroyed; the default is False.\n",
      "    \n",
      "    Returns\n",
      "    -------\n",
      "    z : complex ndarray\n",
      "        with the elements::\n",
      "    \n",
      "            [y(0),y(1),..,y(n/2),y(1-n/2),...,y(-1)]        if n is even\n",
      "            [y(0),y(1),..,y((n-1)/2),y(-(n-1)/2),...,y(-1)]  if n is odd\n",
      "    \n",
      "        where::\n",
      "    \n",
      "            y(j) = sum[k=0..n-1] x[k] * exp(-sqrt(-1)*j*k* 2*pi/n), j = 0..n-1\n",
      "    \n",
      "        Note that ``y(-j) = y(n-j).conjugate()``.\n",
      "    \n",
      "    See Also\n",
      "    --------\n",
      "    ifft : Inverse FFT\n",
      "    rfft : FFT of a real sequence\n",
      "    \n",
      "    Notes\n",
      "    -----\n",
      "    The packing of the result is \"standard\": If ``A = fft(a, n)``, then\n",
      "    ``A[0]`` contains the zero-frequency term, ``A[1:n/2]`` contains the\n",
      "    positive-frequency terms, and ``A[n/2:]`` contains the negative-frequency\n",
      "    terms, in order of decreasingly negative frequency. So for an 8-point\n",
      "    transform, the frequencies of the result are [0, 1, 2, 3, -4, -3, -2, -1].\n",
      "    To rearrange the fft output so that the zero-frequency component is\n",
      "    centered, like [-4, -3, -2, -1,  0,  1,  2,  3], use `fftshift`.\n",
      "    \n",
      "    For `n` even, ``A[n/2]`` contains the sum of the positive and\n",
      "    negative-frequency terms.  For `n` even and `x` real, ``A[n/2]`` will\n",
      "    always be real.\n",
      "    \n",
      "    Both single and double precision routines are implemented.  Half precision\n",
      "    inputs will be converted to single precision.  Non floating-point inputs\n",
      "    will be converted to double precision.  Long-double precision inputs are\n",
      "    not supported.\n",
      "    \n",
      "    This function is most efficient when `n` is a power of two, and least\n",
      "    efficient when `n` is prime.\n",
      "    \n",
      "    If the data type of `x` is real, a \"real FFT\" algorithm is automatically\n",
      "    used, which roughly halves the computation time.  To increase efficiency\n",
      "    a little further, use `rfft`, which does the same calculation, but only\n",
      "    outputs half of the symmetrical spectrum.  If the data is both real and\n",
      "    symmetrical, the `dct` can again double the efficiency, by generating\n",
      "    half of the spectrum from half of the signal.\n",
      "    \n",
      "    Examples\n",
      "    --------\n",
      "    >>> from scipy.fftpack import fft, ifft\n",
      "    >>> x = np.arange(5)\n",
      "    >>> np.allclose(fft(ifft(x)), x, atol=1e-15)  # within numerical accuracy.\n",
      "    True\n",
      "\n"
     ]
    }
   ],
   "source": [
    "help(fft)"
   ]
  },
  {
   "cell_type": "markdown",
   "metadata": {},
   "source": [
    "We define a simple random sequence and plot its fft."
   ]
  },
  {
   "cell_type": "code",
   "execution_count": 33,
   "metadata": {},
   "outputs": [],
   "source": [
    "x = _np.random.rand(100)"
   ]
  },
  {
   "cell_type": "code",
   "execution_count": 34,
   "metadata": {},
   "outputs": [],
   "source": [
    "y = fft(x)"
   ]
  },
  {
   "cell_type": "code",
   "execution_count": 35,
   "metadata": {},
   "outputs": [
    {
     "data": {
      "text/plain": [
       "[<matplotlib.lines.Line2D at 0x7f0f01bc7e48>]"
      ]
     },
     "execution_count": 35,
     "metadata": {},
     "output_type": "execute_result"
    },
    {
     "data": {
      "image/png": "[encoded data removed]",
      "text/plain": [
       "<matplotlib.figure.Figure at 0x7f0f01eb80f0>"
      ]
     },
     "metadata": {},
     "output_type": "display_data"
    }
   ],
   "source": [
    "%matplotlib inline\n",
    "from matplotlib import pyplot as plt\n",
    "plt.plot(_np.real(y))"
   ]
  },
  {
   "cell_type": "markdown",
   "metadata": {},
   "source": [
    "Note that the FFT of a sequence of equidistributed random numbers is not very random."
   ]
  },
  {
   "cell_type": "code",
   "execution_count": null,
   "metadata": {},
   "outputs": [],
   "source": []
  }
 ],
 "metadata": {
  "kernelspec": {
   "display_name": "Python 3.6",
   "language": "python",
   "name": "python36"
  },
  "language_info": {
   "codemirror_mode": {
    "name": "ipython",
    "version": 3
   },
   "file_extension": ".py",
   "mimetype": "text/x-python",
   "name": "python",
   "nbconvert_exporter": "python",
   "pygments_lexer": "ipython3",
   "version": "3.6.3"
  }
 },
 "nbformat": 4,
 "nbformat_minor": 2
}
